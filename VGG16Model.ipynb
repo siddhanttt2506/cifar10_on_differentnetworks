{
  "nbformat": 4,
  "nbformat_minor": 0,
  "metadata": {
    "colab": {
      "provenance": [],
      "gpuType": "V28"
    },
    "kernelspec": {
      "name": "python3",
      "display_name": "Python 3"
    },
    "language_info": {
      "name": "python"
    },
    "accelerator": "TPU"
  },
  "cells": [
    {
      "cell_type": "code",
      "execution_count": 1,
      "metadata": {
        "id": "x5DyXlMH5mmW"
      },
      "outputs": [],
      "source": [
        "import numpy as np\n",
        "from tensorflow.keras.applications.vgg16 import VGG16\n",
        "import tensorflow.keras as k\n",
        "from tensorflow.keras.models import Sequential\n",
        "from tensorflow.keras.layers import Dense, Flatten, Dropout\n",
        "from tensorflow.keras.utils import to_categorical\n",
        "from tensorflow.keras import optimizers\n",
        "from tensorflow.keras.callbacks import ModelCheckpoint, EarlyStopping, LearningRateScheduler\n",
        "from tensorflow.keras.preprocessing.image import ImageDataGenerator\n",
        "from sklearn.metrics import accuracy_score"
      ]
    },
    {
      "cell_type": "code",
      "source": [
        "vgg16_model = VGG16(weights='imagenet',\n",
        "                    include_top=False,\n",
        "                    classes=10,\n",
        "                    input_shape=(32,32,3)# input: 32x32 images with 3 channels -> (32, 32, 3) tensors.\n",
        "                   )"
      ],
      "metadata": {
        "colab": {
          "base_uri": "https://localhost:8080/"
        },
        "id": "Qgxb0fRs6Jyt",
        "outputId": "28154294-18ae-45ad-bc4e-e1d0de9227e4"
      },
      "execution_count": 2,
      "outputs": [
        {
          "output_type": "stream",
          "name": "stdout",
          "text": [
            "Downloading data from https://storage.googleapis.com/tensorflow/keras-applications/vgg16/vgg16_weights_tf_dim_ordering_tf_kernels_notop.h5\n",
            "58889256/58889256 [==============================] - 0s 0us/step\n"
          ]
        }
      ]
    },
    {
      "cell_type": "code",
      "source": [
        "model = Sequential()\n",
        "for layer in vgg16_model.layers:\n",
        "    model.add(layer)"
      ],
      "metadata": {
        "id": "I6cnOzxv6O0X"
      },
      "execution_count": 3,
      "outputs": []
    },
    {
      "cell_type": "code",
      "source": [
        "from tensorflow.keras.layers import Dense, Flatten, Dropout\n",
        "model.add(Flatten())\n",
        "model.add(Dense(512, activation='relu', name='hidden1'))\n",
        "model.add(Dropout(0.4))\n",
        "model.add(Dense(256, activation='relu', name='hidden2'))\n",
        "model.add(Dropout(0.4))\n",
        "model.add(Dense(10, activation='softmax', name='predictions'))\n",
        "\n",
        "model.summary()"
      ],
      "metadata": {
        "colab": {
          "base_uri": "https://localhost:8080/"
        },
        "id": "FrB6JDIa6Svw",
        "outputId": "44714e1e-35a4-4060-ce28-50bfbf431b7a"
      },
      "execution_count": 4,
      "outputs": [
        {
          "output_type": "stream",
          "name": "stdout",
          "text": [
            "Model: \"sequential\"\n",
            "_________________________________________________________________\n",
            " Layer (type)                Output Shape              Param #   \n",
            "=================================================================\n",
            " block1_conv1 (Conv2D)       (None, 32, 32, 64)        1792      \n",
            "                                                                 \n",
            " block1_conv2 (Conv2D)       (None, 32, 32, 64)        36928     \n",
            "                                                                 \n",
            " block1_pool (MaxPooling2D)  (None, 16, 16, 64)        0         \n",
            "                                                                 \n",
            " block2_conv1 (Conv2D)       (None, 16, 16, 128)       73856     \n",
            "                                                                 \n",
            " block2_conv2 (Conv2D)       (None, 16, 16, 128)       147584    \n",
            "                                                                 \n",
            " block2_pool (MaxPooling2D)  (None, 8, 8, 128)         0         \n",
            "                                                                 \n",
            " block3_conv1 (Conv2D)       (None, 8, 8, 256)         295168    \n",
            "                                                                 \n",
            " block3_conv2 (Conv2D)       (None, 8, 8, 256)         590080    \n",
            "                                                                 \n",
            " block3_conv3 (Conv2D)       (None, 8, 8, 256)         590080    \n",
            "                                                                 \n",
            " block3_pool (MaxPooling2D)  (None, 4, 4, 256)         0         \n",
            "                                                                 \n",
            " block4_conv1 (Conv2D)       (None, 4, 4, 512)         1180160   \n",
            "                                                                 \n",
            " block4_conv2 (Conv2D)       (None, 4, 4, 512)         2359808   \n",
            "                                                                 \n",
            " block4_conv3 (Conv2D)       (None, 4, 4, 512)         2359808   \n",
            "                                                                 \n",
            " block4_pool (MaxPooling2D)  (None, 2, 2, 512)         0         \n",
            "                                                                 \n",
            " block5_conv1 (Conv2D)       (None, 2, 2, 512)         2359808   \n",
            "                                                                 \n",
            " block5_conv2 (Conv2D)       (None, 2, 2, 512)         2359808   \n",
            "                                                                 \n",
            " block5_conv3 (Conv2D)       (None, 2, 2, 512)         2359808   \n",
            "                                                                 \n",
            " block5_pool (MaxPooling2D)  (None, 1, 1, 512)         0         \n",
            "                                                                 \n",
            " flatten (Flatten)           (None, 512)               0         \n",
            "                                                                 \n",
            " hidden1 (Dense)             (None, 512)               262656    \n",
            "                                                                 \n",
            " dropout (Dropout)           (None, 512)               0         \n",
            "                                                                 \n",
            " hidden2 (Dense)             (None, 256)               131328    \n",
            "                                                                 \n",
            " dropout_1 (Dropout)         (None, 256)               0         \n",
            "                                                                 \n",
            " predictions (Dense)         (None, 10)                2570      \n",
            "                                                                 \n",
            "=================================================================\n",
            "Total params: 15111242 (57.64 MB)\n",
            "Trainable params: 15111242 (57.64 MB)\n",
            "Non-trainable params: 0 (0.00 Byte)\n",
            "_________________________________________________________________\n"
          ]
        }
      ]
    },
    {
      "cell_type": "code",
      "source": [
        "(X_train, y_train), (X_test, y_test) = k.datasets.cifar10.load_data()\n",
        "\n",
        "print(\"******************\")\n",
        "print(X_train.shape)\n",
        "print(y_train.shape)\n",
        "print(X_test.shape)\n",
        "print(y_test.shape)"
      ],
      "metadata": {
        "colab": {
          "base_uri": "https://localhost:8080/"
        },
        "id": "lNkjWk3t6WyH",
        "outputId": "3300658b-18b2-4613-d168-6672ea3bd83a"
      },
      "execution_count": 5,
      "outputs": [
        {
          "output_type": "stream",
          "name": "stdout",
          "text": [
            "Downloading data from https://www.cs.toronto.edu/~kriz/cifar-10-python.tar.gz\n",
            "170498071/170498071 [==============================] - 2s 0us/step\n",
            "******************\n",
            "(50000, 32, 32, 3)\n",
            "(50000, 1)\n",
            "(10000, 32, 32, 3)\n",
            "(10000, 1)\n"
          ]
        }
      ]
    },
    {
      "cell_type": "code",
      "source": [
        "y_train_ohe = to_categorical(y_train, num_classes = 10)\n",
        "y_test_ohe = to_categorical(y_test, num_classes = 10)"
      ],
      "metadata": {
        "id": "FPtpSDNH6dco"
      },
      "execution_count": 6,
      "outputs": []
    },
    {
      "cell_type": "code",
      "source": [
        "X_train = X_train.astype('float32')\n",
        "X_test = X_test.astype('float32')\n",
        "X_train  /= 255\n",
        "X_test /= 255\n"
      ],
      "metadata": {
        "id": "skpNN84m6lAZ"
      },
      "execution_count": 7,
      "outputs": []
    },
    {
      "cell_type": "code",
      "source": [
        "X_val = X_train[40000:]\n",
        "y_val = y_train_ohe[40000:]\n",
        "print(X_val.shape)\n",
        "print(y_val.shape)\n",
        "X_train = X_train[:40000]\n",
        "y_train_ohe = y_train_ohe[:40000]\n",
        "print(X_train.shape)\n",
        "print(y_train_ohe.shape)"
      ],
      "metadata": {
        "colab": {
          "base_uri": "https://localhost:8080/"
        },
        "id": "_D2Rhn756qFb",
        "outputId": "588268ae-49df-4246-bc62-b83a44e376f7"
      },
      "execution_count": 8,
      "outputs": [
        {
          "output_type": "stream",
          "name": "stdout",
          "text": [
            "(10000, 32, 32, 3)\n",
            "(10000, 10)\n",
            "(40000, 32, 32, 3)\n",
            "(40000, 10)\n"
          ]
        }
      ]
    },
    {
      "cell_type": "code",
      "source": [
        "# initiate SGD optimizer\n",
        "sgd = optimizers.SGD(lr=0.001, momentum=0.9)\n",
        "\n",
        "# For a multi-class classification problem\n",
        "model.compile(loss='categorical_crossentropy',optimizer= sgd,metrics=['accuracy'])\n",
        "\n",
        "\n",
        "def lr_scheduler(epoch):\n",
        "    return 0.001 * (0.5 ** (epoch // 20))\n",
        "reduce_lr = LearningRateScheduler(lr_scheduler)\n",
        "\n",
        "mc = ModelCheckpoint('./weights.h5', monitor='val_accuracy', save_best_only=True, mode='max')\n",
        "# initialize the number of epochs and batch size\n",
        "EPOCHS = 5\n",
        "BS = 128\n",
        "\n",
        "# construct the training image generator for data augmentation\n",
        "aug = ImageDataGenerator(\n",
        "    rotation_range=20,\n",
        "    zoom_range=0.15,\n",
        "    width_shift_range=0.2,\n",
        "    height_shift_range=0.2,\n",
        "    shear_range=0.15,\n",
        "    horizontal_flip=True,\n",
        "    fill_mode=\"nearest\")\n",
        "# train the model\n",
        "history = model.fit_generator(\n",
        "    aug.flow(X_train,y_train_ohe, batch_size=BS),\n",
        "    validation_data=(X_val,y_val),\n",
        "    steps_per_epoch=len(X_train) // BS,\n",
        "    epochs=EPOCHS,\n",
        "    callbacks=[reduce_lr,mc])\n",
        "\n",
        "#We load the best weights saved by the ModelCheckpoint\n",
        "model.load_weights('./weights.h5')"
      ],
      "metadata": {
        "colab": {
          "base_uri": "https://localhost:8080/"
        },
        "id": "VKp1HSiS7A4O",
        "outputId": "f8896c0f-320d-4982-fd65-14b872c5dcdd"
      },
      "execution_count": 9,
      "outputs": [
        {
          "output_type": "stream",
          "name": "stderr",
          "text": [
            "WARNING:absl:`lr` is deprecated in Keras optimizer, please use `learning_rate` or use the legacy optimizer, e.g.,tf.keras.optimizers.legacy.SGD.\n"
          ]
        },
        {
          "output_type": "stream",
          "name": "stdout",
          "text": [
            "Epoch 1/5\n"
          ]
        },
        {
          "output_type": "stream",
          "name": "stderr",
          "text": [
            "<ipython-input-9-034028a20fd3>:27: UserWarning: `Model.fit_generator` is deprecated and will be removed in a future version. Please use `Model.fit`, which supports generators.\n",
            "  history = model.fit_generator(\n"
          ]
        },
        {
          "output_type": "stream",
          "name": "stdout",
          "text": [
            "312/312 [==============================] - 177s 563ms/step - loss: 1.7621 - accuracy: 0.3596 - val_loss: 1.0183 - val_accuracy: 0.6397 - lr: 0.0010\n"
          ]
        },
        {
          "output_type": "stream",
          "name": "stderr",
          "text": [
            "/usr/local/lib/python3.10/dist-packages/keras/src/engine/training.py:3103: UserWarning: You are saving your model as an HDF5 file via `model.save()`. This file format is considered legacy. We recommend using instead the native Keras format, e.g. `model.save('my_model.keras')`.\n",
            "  saving_api.save_model(\n"
          ]
        },
        {
          "output_type": "stream",
          "name": "stdout",
          "text": [
            "Epoch 2/5\n",
            "312/312 [==============================] - 174s 559ms/step - loss: 1.2060 - accuracy: 0.5855 - val_loss: 0.8547 - val_accuracy: 0.6988 - lr: 0.0010\n",
            "Epoch 3/5\n",
            "312/312 [==============================] - 175s 559ms/step - loss: 1.0139 - accuracy: 0.6557 - val_loss: 0.7460 - val_accuracy: 0.7418 - lr: 0.0010\n",
            "Epoch 4/5\n",
            "312/312 [==============================] - 173s 556ms/step - loss: 0.9020 - accuracy: 0.6943 - val_loss: 0.6730 - val_accuracy: 0.7690 - lr: 0.0010\n",
            "Epoch 5/5\n",
            "312/312 [==============================] - 173s 555ms/step - loss: 0.8291 - accuracy: 0.7207 - val_loss: 0.6671 - val_accuracy: 0.7680 - lr: 0.0010\n"
          ]
        }
      ]
    },
    {
      "cell_type": "code",
      "source": [
        "train_loss, train_accuracy = model.evaluate_generator(aug.flow(X_train,y_train_ohe, batch_size=BS), 156)\n",
        "print('Training loss: {}\\nTraining accuracy: {}'.format(train_loss, train_accuracy))"
      ],
      "metadata": {
        "colab": {
          "base_uri": "https://localhost:8080/"
        },
        "id": "wiQzV1qO0DjZ",
        "outputId": "5daa00ad-6a2d-4589-d2f5-6d2229a147f5"
      },
      "execution_count": 10,
      "outputs": [
        {
          "output_type": "stream",
          "name": "stderr",
          "text": [
            "<ipython-input-10-a5a972341de3>:1: UserWarning: `Model.evaluate_generator` is deprecated and will be removed in a future version. Please use `Model.evaluate`, which supports generators.\n",
            "  train_loss, train_accuracy = model.evaluate_generator(aug.flow(X_train,y_train_ohe, batch_size=BS), 156)\n"
          ]
        },
        {
          "output_type": "stream",
          "name": "stdout",
          "text": [
            "Training loss: 0.7440959811210632\n",
            "Training accuracy: 0.7433393597602844\n"
          ]
        }
      ]
    },
    {
      "cell_type": "code",
      "source": [
        "val_loss, val_accuracy = model.evaluate(X_val, y_val)\n",
        "print('Validation loss: {}\\nValidation accuracy: {}'.format(val_loss, val_accuracy))"
      ],
      "metadata": {
        "colab": {
          "base_uri": "https://localhost:8080/"
        },
        "id": "E_ISHThC0J0r",
        "outputId": "26fbaee5-24cd-4e9c-af4f-e8703643a3c1"
      },
      "execution_count": 11,
      "outputs": [
        {
          "output_type": "stream",
          "name": "stdout",
          "text": [
            "313/313 [==============================] - 12s 38ms/step - loss: 0.6730 - accuracy: 0.7690\n",
            "Validation loss: 0.6729556918144226\n",
            "Validation accuracy: 0.7689999938011169\n"
          ]
        }
      ]
    },
    {
      "cell_type": "code",
      "source": [
        "test_loss, test_accuracy = model.evaluate(X_test,y_test_ohe,)\n",
        "print('Testing loss: {}\\nTesting accuracy: {}'.format(test_loss, test_accuracy))"
      ],
      "metadata": {
        "colab": {
          "base_uri": "https://localhost:8080/"
        },
        "id": "6dtqM18w0eei",
        "outputId": "a1315f34-b207-4715-dc4d-025f2117ec34"
      },
      "execution_count": 12,
      "outputs": [
        {
          "output_type": "stream",
          "name": "stdout",
          "text": [
            "313/313 [==============================] - 12s 39ms/step - loss: 0.6942 - accuracy: 0.7675\n",
            "Testing loss: 0.6941640377044678\n",
            "Testing accuracy: 0.7674999833106995\n"
          ]
        }
      ]
    }
  ]
}